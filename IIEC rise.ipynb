{
 "cells": [
  {
   "cell_type": "code",
   "execution_count": 5,
   "metadata": {},
   "outputs": [
    {
     "name": "stdout",
     "output_type": "stream",
     "text": [
      "Requirement already satisfied: pyttsx3 in c:\\users\\ayush\\appdata\\local\\programs\\python\\python36\\lib\\site-packages (2.90)\n",
      "Requirement already satisfied: pywin32; platform_system == \"Windows\" in c:\\users\\ayush\\appdata\\local\\programs\\python\\python36\\lib\\site-packages (from pyttsx3) (228)\n",
      "Requirement already satisfied: pypiwin32; platform_system == \"Windows\" in c:\\users\\ayush\\appdata\\local\\programs\\python\\python36\\lib\\site-packages (from pyttsx3) (223)\n",
      "Requirement already satisfied: comtypes; platform_system == \"Windows\" in c:\\users\\ayush\\appdata\\local\\programs\\python\\python36\\lib\\site-packages (from pyttsx3) (1.1.7)\n",
      "Note: you may need to restart the kernel to use updated packages.\n"
     ]
    },
    {
     "name": "stderr",
     "output_type": "stream",
     "text": [
      "WARNING: You are using pip version 20.1.1; however, version 20.2.2 is available.\n",
      "You should consider upgrading via the 'c:\\users\\ayush\\appdata\\local\\programs\\python\\python36\\python.exe -m pip install --upgrade pip' command.\n"
     ]
    }
   ],
   "source": [
    "pip install pyttsx3"
   ]
  },
  {
   "cell_type": "code",
   "execution_count": 6,
   "metadata": {},
   "outputs": [],
   "source": [
    "import os\n",
    "import pyttsx3"
   ]
  },
  {
   "cell_type": "code",
   "execution_count": 7,
   "metadata": {},
   "outputs": [],
   "source": [
    "speaker = pyttsx3.init()"
   ]
  },
  {
   "cell_type": "code",
   "execution_count": 8,
   "metadata": {},
   "outputs": [],
   "source": [
    "speaker.setProperty('rate', 200)\n",
    "speaker.setProperty('volume', 3)"
   ]
  },
  {
   "cell_type": "code",
   "execution_count": 11,
   "metadata": {},
   "outputs": [],
   "source": [
    "voice_id = \"HKEY_LOCAL_MACHINE\\SOFTWARE\\Microsoft\\Speech\\Voices\\Tokens\\TTS_MS_EN_US_DAVID_11.0\"\n",
    "speaker.setProperty('voice',voice_id)\n"
   ]
  },
  {
   "cell_type": "code",
   "execution_count": 12,
   "metadata": {},
   "outputs": [
    {
     "name": "stdout",
     "output_type": "stream",
     "text": [
      "\n",
      "\t||||||||||       |||        ||||||    ||          ||      ||||||||\n"
     ]
    }
   ],
   "source": [
    "print(\"\")\n",
    "print(\"\\t||||||||||       |||        ||||||    ||          ||      ||||||||\")\n",
    "\n",
    "\n",
    "\n",
    "\n",
    "\n",
    "\n",
    "\n"
   ]
  },
  {
   "cell_type": "code",
   "execution_count": 16,
   "metadata": {},
   "outputs": [
    {
     "name": "stdout",
     "output_type": "stream",
     "text": [
      "\n",
      "Some keywords I understand ,\n",
      "\tBrowser - chrome, Edge \n",
      "\tCalender and E-mail\n",
      "\tCalculations and Note taking\n",
      "\tWhatsapp - Call, Message\n",
      "\thelp and exit\n"
     ]
    }
   ],
   "source": [
    "pyttsx3.speak(\"Hey Tony....!My Name is Jarvis, I am your personal assistant.\")\n",
    "prog = ['chrome.lnk', 'edge.lnk', 'calendar.lnk', 'notepad','calc.exe','gmail.lnk','whatsapp.lnk']\n",
    "ask = \"What can I do for you?\"\n",
    "other = \"What can I do for you?\"\n",
    "print(\"\\nSome keywords I understand ,\\n\\tBrowser - chrome, Edge \\n\\tCalender and E-mail\\n\\tCalculations and Note taking\\n\\tWhatsapp - Call, Message\\n\\thelp and exit\")\n"
   ]
  },
  {
   "cell_type": "code",
   "execution_count": 17,
   "metadata": {},
   "outputs": [
    {
     "ename": "SyntaxError",
     "evalue": "invalid syntax (<ipython-input-17-b0eefd820511>, line 22)",
     "output_type": "error",
     "traceback": [
      "\u001b[1;36m  File \u001b[1;32m\"<ipython-input-17-b0eefd820511>\"\u001b[1;36m, line \u001b[1;32m22\u001b[0m\n\u001b[1;33m    ask = other\u001b[0m\n\u001b[1;37m      ^\u001b[0m\n\u001b[1;31mSyntaxError\u001b[0m\u001b[1;31m:\u001b[0m invalid syntax\n"
     ]
    }
   ],
   "source": [
    "while true:\n",
    "    \n",
    "    print(\"\\nJarvis: \",ask)\n",
    "    pyttsx3.speak(ask)\n",
    "    ip = input(\"Type Here: \").lower()\n",
    "    \n",
    "    if 'not' in ip or 'do not' in ip or 'dont' in ip or \"don't\" in ip:\n",
    "        print(\"\\nJarvis: Okay!\")\n",
    "        pyttsx3.speak(\"Okay!\")\n",
    "        continue\n",
    "        ask = other\n",
    "        \n",
    "    elif 'chrome' in ip:\n",
    "        pyttsx3.speak(\"Opening chrome browser\")\n",
    "        os.system(prog[0])\n",
    "        ask = other\n",
    "    \n",
    "    \n",
    "    elif 'edge' in ip:\n",
    "        pyttsx3.speak(\"Opening edge browser\")\n",
    "        os.system(prog[1]\n",
    "        ask = other\n",
    "        \n",
    "    elif 'browser' in ip or (('browse' in ip or 'surf' in ip) and ('web' in ip or 'internet' in ip or 'net' in ip)):\n",
    "        pyttsx3.speak(\"There are two browsers. Which one Should I open? Chrome or edge?\")\n",
    "        print(\"Jarvis: Edge or Chrome?\")\n",
    "        browser = input(\"\\n\").lower()\n",
    "        \n",
    "        if 'better' in browser:\n",
    "                  print(\"yes! It definitely is.\")\n",
    "                  \n",
    "        if 'edge' in browser:\n",
    "                  pyttsx3.speak(\"opening edge browser\")\n",
    "                  os.system(prog[1])\n",
    "                  ask = other\n",
    "              \n",
    "        elif 'chrome' in browser:\n",
    "                  pyttsx3.speak(\"opening chrome browser\")\n",
    "                  os.system(prog[0])\n",
    "                  ask = other\n",
    "                  \n",
    "        \n",
    "        else:\n",
    "                  pyttsx3.speak(\"Sorry, I don't support this browser\")\n",
    "                  ask = other\n",
    "    \n",
    "    elif 'schedule' in ip or 'calendar' in ip:\n",
    "            pyttsx3.speak(\"Opening your calender\")\n",
    "            os.system(prog[2])\n",
    "            ask = other\n",
    "                  \n",
    "    elif 'calculations' in ip or 'calculator' in ip or 'calculation' in ip:\n",
    "            pyttsx3.speak(\"Opening calculator\")\n",
    "            os.system(prog[4])\n",
    "            ask = other\n",
    "        \n",
    "    elif 'text editor' in ip or 'notepad' in ip or 'note' in ip:\n",
    "            pyttsx3.speak(\"Opening Notepad\")\n",
    "            os.system(prog[3])\n",
    "            ask = other\n",
    "                  \n",
    "    elif 'mail' in ip or 'email' in  ip or 'gmail' in ip or 'e-mail' in ip or 'inbox' in ip:\n",
    "            pyttsx3.speak(\"Opening gmail\")\n",
    "            os.system(prog[5])\n",
    "            ask = other\n",
    "                  \n",
    "             \n",
    "    elif 'message' in ip or 'call' in  ip or 'whatsapp' in ip:\n",
    "            pyttsx3.speak(\"Opening whatsapp\")\n",
    "            os.system(prog[6])\n",
    "            ask = other\n",
    "                  \n",
    "             \n",
    "    elif 'help' in ip:\n",
    "            print(\"Hello! My Name is jarvis: I am your personal Assistant. here to make your life easier. \")\n",
    "            pyttsx3.speak(\"Hello! My Name is jarvis: I am your personal Assistant. here to make your life easier.\")\n",
    "            print(\"Keywords:\\n\\tBrowser - Chrome, Edge \\n\\tCalendar and E-mail \\n\\tCalculations and Note taking\\n\\tWhatsapp - Call, Message\\n\\thelp and exit \")\n",
    "            ask = \"So, what do you want me to do now?\"\n",
    "                  \n",
    "    elif 'exit' in ip or 'Thamk you' in ip or 'will be all' in ip or 'quit' in ip:\n",
    "            exyn = input(\"\\nIf you want to exit then enter 1 , else say nothing else: \")\n",
    "            if exyn == '1':\n",
    "                  \n",
    "                    pyttsx3(\"Thank you for using jarvis, have a Nice Day\")\n",
    "                    print(\"--------------------------------------------------------\")\n",
    "                    print(\"Made by Ayush Pandey, under the learning of Vimal Daga Sir\")\n",
    "                    exit()\n",
    "            else:\n",
    "                    continue\n",
    "                \n",
    "    else:\n",
    "\t\tprint(\"\\nSorry, I did not understand what you said. Run the help command to know what I can do. Try and repharase your command maybe I will understand.\")\n",
    "\t\tpyttsx3.speak(\"Sorry, I did not understand what you said. Run the help command to know what I can do\")\n",
    "\t\task = \"\"\n",
    "        "
   ]
  },
  {
   "cell_type": "code",
   "execution_count": null,
   "metadata": {},
   "outputs": [],
   "source": []
  }
 ],
 "metadata": {
  "kernelspec": {
   "display_name": "Python 3",
   "language": "python",
   "name": "python3"
  },
  "language_info": {
   "codemirror_mode": {
    "name": "ipython",
    "version": 3
   },
   "file_extension": ".py",
   "mimetype": "text/x-python",
   "name": "python",
   "nbconvert_exporter": "python",
   "pygments_lexer": "ipython3",
   "version": "3.6.8"
  }
 },
 "nbformat": 4,
 "nbformat_minor": 4
}
